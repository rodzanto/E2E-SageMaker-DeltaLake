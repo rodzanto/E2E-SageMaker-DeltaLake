{
 "cells": [
  {
   "cell_type": "markdown",
   "id": "c749391e-700f-40e9-a78e-7713fa42d353",
   "metadata": {},
   "source": [
    "# From Delta Lake to Amazon SageMaker\n",
    "\n",
    "[Delta Lake](https://delta.io/) is a common open-source framework used for storing data in Lakehouse architectures.\n",
    "\n",
    "In this sample we demonstrate how to integrate Delta Tables with Amazon SageMaker for performing data exploration, ingestion, processing, training, and hosting for Machine Learning.\n",
    "\n",
    "---\n",
    "\n",
    "## 2 - Feature Engineering and Ingestion\n",
    "\n",
    "In this notebook, we will ingest data from our Delta Tables, perform some transformations on it via code using **SageMaker Processing**, and ingesting the features into **SageMaker Feature Store**. For this purpose we will:\n",
    "* Prepare a processing script for our feature engineering, including the configuration for relying on Delta Sharing for connecting to our Delta Table\n",
    "* Run a SageMaker Processing job pointing towards our sample Delta Table profile file URL\n",
    "* Create a SageMaker Feature Store Feature Group, both offline and online\n",
    "* Work with the processed data for ingesting it to our Feature Group\n",
    "\n",
    "<center><img src=\"../images/DeltaLake_to_SageMaker_2.png\" width=\"60%\"></center>\n",
    "\n",
    "Note the transformations to the data can also be performed with other services in AWS, e.g. for low-code/no-code processing you can rely on **SageMaker Data Wrangler**, as it currently supports direct connections towards Delta Lakes via JDBC for data exploration, analysis, and feature engineering. You can check more details about this method in this blog post:\n",
    "\n",
    "https://aws.amazon.com/blogs/machine-learning/prepare-data-from-databricks-for-machine-learning-using-amazon-sagemaker-data-wrangler/"
   ]
  },
  {
   "cell_type": "markdown",
   "id": "cec14d92-5184-4ec2-9506-f5eed246b11a",
   "metadata": {},
   "source": [
    "### Processing data from Delta Lake with SageMaker Processing"
   ]
  },
  {
   "cell_type": "code",
   "execution_count": 42,
   "id": "1c011736-951c-4478-8272-7cb956e7cf43",
   "metadata": {},
   "outputs": [],
   "source": [
    "import boto3\n",
    "import sagemaker\n",
    "from sagemaker import get_execution_role\n",
    "from sagemaker.sklearn.processing import SKLearnProcessor\n",
    "import pandas as pd\n",
    "import os\n",
    "from urllib.parse import urlparse\n",
    "\n",
    "# S3 bucket for saving processing job outputs\n",
    "sm_session = sagemaker.Session()\n",
    "bucket = sm_session.default_bucket()\n",
    "region = sm_session.boto_region_name\n",
    "\n",
    "# Delta Sharing profile file location - Replace these with your own if you want to customize this example\n",
    "profile_file_url_s3 = f's3://{bucket}/delta_to_sagemaker/delta_sharing/profile/open-datasets.share'\n",
    "table = '#delta_sharing.default.boston-housing'\n",
    "\n",
    "profile_file_name = os.path.basename(urlparse(profile_file_url_s3).path)\n",
    "role = get_execution_role()"
   ]
  },
  {
   "cell_type": "code",
   "execution_count": 24,
   "id": "d9b00ed0-beb4-4deb-a404-2b4ce77192d1",
   "metadata": {},
   "outputs": [],
   "source": [
    "sklearn_processor = SKLearnProcessor(\n",
    "    framework_version=\"0.20.0\",\n",
    "    role=role,\n",
    "    instance_type=\"ml.m5.xlarge\",\n",
    "    instance_count=1\n",
    ")"
   ]
  },
  {
   "cell_type": "code",
   "execution_count": 59,
   "id": "5d53d195-4b0c-4b80-95a4-a25bf27ae43c",
   "metadata": {
    "tags": []
   },
   "outputs": [
    {
     "name": "stdout",
     "output_type": "stream",
     "text": [
      "Overwriting ./code/preprocessing.py\n"
     ]
    }
   ],
   "source": [
    "%%writefile ./code/preprocessing.py\n",
    "#  Copyright 2018 Amazon.com, Inc. or its affiliates. All Rights Reserved.\n",
    "#\n",
    "#  Licensed under the Apache License, Version 2.0 (the \"License\").\n",
    "#  You may not use this file except in compliance with the License.\n",
    "#  A copy of the License is located at\n",
    "#\n",
    "#      http://www.apache.org/licenses/LICENSE-2.0\n",
    "#\n",
    "#  or in the \"license\" file accompanying this file. This file is distributed\n",
    "#  on an \"AS IS\" BASIS, WITHOUT WARRANTIES OR CONDITIONS OF ANY KIND, either\n",
    "#  express or implied. See the License for the specific language governing\n",
    "#  permissions and limitations under the License.\n",
    "\n",
    "from __future__ import print_function\n",
    "\n",
    "# Import generic functions...\n",
    "import argparse\n",
    "import os\n",
    "import warnings\n",
    "import pandas as pd\n",
    "import numpy as np\n",
    "\n",
    "import sys\n",
    "import subprocess\n",
    "\n",
    "# Install and import dependencies...\n",
    "subprocess.check_call([\n",
    "    sys.executable, \"-m\", \"pip\", \"install\", \"-r\",\n",
    "    \"/opt/ml/processing/input/code/my_package/requirements.txt\",\n",
    "])\n",
    "import delta_sharing\n",
    "\n",
    "# Import SKLearn libraries...\n",
    "from sklearn.compose import make_column_transformer\n",
    "\n",
    "if __name__ == \"__main__\":\n",
    "    parser = argparse.ArgumentParser()\n",
    "    parser.add_argument(\"--profile-file\", type=str)\n",
    "    parser.add_argument(\"--table\", type=str)\n",
    "    args, _ = parser.parse_known_args()\n",
    "    print(\"Received arguments {}\".format(args))\n",
    "\n",
    "    # Take the Delta Sharing profile file and create a SharingClient...\n",
    "    profile_files = [os.path.join(args.profile_file, file) for file in os.listdir(args.profile_file)]\n",
    "    if len(profile_files) == 0:\n",
    "        raise ValueError(\n",
    "            (\"There are no files in {}.\\n\").format(args.profile_file, \"profile-file\")\n",
    "        )\n",
    "    profile_file = profile_files[0]\n",
    "    print(f'Found profile file: {profile_file}')\n",
    "    client = delta_sharing.SharingClient(profile_file)\n",
    "    table_url = profile_file + args.table\n",
    "\n",
    "    # Load the Delta Table as a Pandas DataFrame...\n",
    "    print(f'Loading {args.table} table from Delta Lake')\n",
    "    df = delta_sharing.load_as_pandas(table_url)\n",
    "    print(f'Train data shape: {df.shape}')\n",
    "\n",
    "    # Perform some sample transformations - Replace here with your own transformations...\n",
    "    # ---\n",
    "    \n",
    "    df.dropna(inplace=True)\n",
    "    df.drop_duplicates(inplace=True)\n",
    "\n",
    "    negative_examples, positive_examples = np.bincount(df[\"chas\"])\n",
    "    print(\n",
    "        \"Data after cleaning: {}, {} positive examples, {} negative examples\".format(\n",
    "            df.shape, positive_examples, negative_examples\n",
    "        )\n",
    "    )\n",
    "\n",
    "    processed_features = df\n",
    "\n",
    "    # ---\n",
    "    # Write processed data after transformations...\n",
    "    processed_features_output_path = os.path.join(\"/opt/ml/processing/processed\", \"processed_features.csv\")\n",
    "\n",
    "    print(\"Saving processed features to {}\".format(processed_features_output_path))\n",
    "    pd.DataFrame(processed_features).to_csv(processed_features_output_path, header=True, index=False)"
   ]
  },
  {
   "cell_type": "code",
   "execution_count": 60,
   "id": "ac28d794-fae5-4831-b28c-d495e77fd89d",
   "metadata": {
    "scrolled": true,
    "tags": []
   },
   "outputs": [
    {
     "name": "stdout",
     "output_type": "stream",
     "text": [
      "\n",
      "Job Name:  sagemaker-scikit-learn-2022-09-01-10-37-12-320\n",
      "Inputs:  [{'InputName': 'input-1', 'AppManaged': False, 'S3Input': {'S3Uri': 's3://sagemaker-eu-west-1-889960878219/delta_to_sagemaker/delta_sharing/profile/open-datasets.share', 'LocalPath': '/opt/ml/processing/profile/', 'S3DataType': 'S3Prefix', 'S3InputMode': 'File', 'S3DataDistributionType': 'FullyReplicated', 'S3CompressionType': 'None'}}, {'InputName': 'input-2', 'AppManaged': False, 'S3Input': {'S3Uri': 's3://sagemaker-eu-west-1-889960878219/sagemaker-scikit-learn-2022-09-01-10-37-12-320/input/input-2', 'LocalPath': '/opt/ml/processing/input/code/my_package/', 'S3DataType': 'S3Prefix', 'S3InputMode': 'File', 'S3DataDistributionType': 'FullyReplicated', 'S3CompressionType': 'None'}}, {'InputName': 'code', 'AppManaged': False, 'S3Input': {'S3Uri': 's3://sagemaker-eu-west-1-889960878219/sagemaker-scikit-learn-2022-09-01-10-37-12-320/input/code/preprocessing.py', 'LocalPath': '/opt/ml/processing/input/code', 'S3DataType': 'S3Prefix', 'S3InputMode': 'File', 'S3DataDistributionType': 'FullyReplicated', 'S3CompressionType': 'None'}}]\n",
      "Outputs:  [{'OutputName': 'processed_data', 'AppManaged': False, 'S3Output': {'S3Uri': 's3://sagemaker-eu-west-1-889960878219/sagemaker-scikit-learn-2022-09-01-10-37-12-320/output/processed_data', 'LocalPath': '/opt/ml/processing/processed', 'S3UploadMode': 'EndOfJob'}}]\n",
      "........................\u001b[34mCollecting delta-sharing\n",
      "  Downloading delta_sharing-0.5.0-py3-none-any.whl (16 kB)\u001b[0m\n",
      "\u001b[34mCollecting fsspec>=0.7.4\n",
      "  Downloading fsspec-2022.8.2-py3-none-any.whl (140 kB)\u001b[0m\n",
      "\u001b[34mCollecting yarl>=1.6.0\n",
      "  Downloading yarl-1.8.1-cp37-cp37m-manylinux_2_17_x86_64.manylinux2014_x86_64.whl (231 kB)\u001b[0m\n",
      "\u001b[34mRequirement already satisfied: requests in /miniconda3/lib/python3.7/site-packages (from delta-sharing->-r /opt/ml/processing/input/code/my_package/requirements.txt (line 1)) (2.27.1)\u001b[0m\n",
      "\u001b[34mRequirement already satisfied: pandas in /miniconda3/lib/python3.7/site-packages (from delta-sharing->-r /opt/ml/processing/input/code/my_package/requirements.txt (line 1)) (0.25.3)\u001b[0m\n",
      "\u001b[34mCollecting aiohttp\n",
      "  Downloading aiohttp-3.8.1-cp37-cp37m-manylinux_2_5_x86_64.manylinux1_x86_64.manylinux_2_12_x86_64.manylinux2010_x86_64.whl (1.1 MB)\u001b[0m\n",
      "\u001b[34mCollecting pyarrow>=4.0.0\n",
      "  Downloading pyarrow-9.0.0-cp37-cp37m-manylinux_2_17_x86_64.manylinux2014_x86_64.whl (35.3 MB)\u001b[0m\n",
      "\u001b[34mRequirement already satisfied: numpy>=1.16.6 in /miniconda3/lib/python3.7/site-packages (from pyarrow>=4.0.0->delta-sharing->-r /opt/ml/processing/input/code/my_package/requirements.txt (line 1)) (1.19.5)\u001b[0m\n",
      "\u001b[34mRequirement already satisfied: idna>=2.0 in /miniconda3/lib/python3.7/site-packages (from yarl>=1.6.0->delta-sharing->-r /opt/ml/processing/input/code/my_package/requirements.txt (line 1)) (3.3)\u001b[0m\n",
      "\u001b[34mCollecting multidict>=4.0\n",
      "  Downloading multidict-6.0.2-cp37-cp37m-manylinux_2_17_x86_64.manylinux2014_x86_64.whl (94 kB)\u001b[0m\n",
      "\u001b[34mRequirement already satisfied: typing-extensions>=3.7.4 in /miniconda3/lib/python3.7/site-packages (from yarl>=1.6.0->delta-sharing->-r /opt/ml/processing/input/code/my_package/requirements.txt (line 1)) (4.1.1)\u001b[0m\n",
      "\u001b[34mCollecting aiosignal>=1.1.2\n",
      "  Downloading aiosignal-1.2.0-py3-none-any.whl (8.2 kB)\u001b[0m\n",
      "\u001b[34mCollecting async-timeout<5.0,>=4.0.0a3\n",
      "  Downloading async_timeout-4.0.2-py3-none-any.whl (5.8 kB)\u001b[0m\n",
      "\u001b[34mRequirement already satisfied: charset-normalizer<3.0,>=2.0 in /miniconda3/lib/python3.7/site-packages (from aiohttp->delta-sharing->-r /opt/ml/processing/input/code/my_package/requirements.txt (line 1)) (2.0.4)\u001b[0m\n",
      "\u001b[34mCollecting asynctest==0.13.0\n",
      "  Downloading asynctest-0.13.0-py3-none-any.whl (26 kB)\u001b[0m\n",
      "\u001b[34mCollecting attrs>=17.3.0\n",
      "  Downloading attrs-22.1.0-py2.py3-none-any.whl (58 kB)\u001b[0m\n",
      "\u001b[34mCollecting frozenlist>=1.1.1\n",
      "  Downloading frozenlist-1.3.1-cp37-cp37m-manylinux_2_5_x86_64.manylinux1_x86_64.manylinux_2_17_x86_64.manylinux2014_x86_64.whl (148 kB)\u001b[0m\n",
      "\u001b[34mRequirement already satisfied: pytz>=2017.2 in /miniconda3/lib/python3.7/site-packages (from pandas->delta-sharing->-r /opt/ml/processing/input/code/my_package/requirements.txt (line 1)) (2022.1)\u001b[0m\n",
      "\u001b[34mRequirement already satisfied: python-dateutil>=2.6.1 in /miniconda3/lib/python3.7/site-packages (from pandas->delta-sharing->-r /opt/ml/processing/input/code/my_package/requirements.txt (line 1)) (2.8.2)\u001b[0m\n",
      "\u001b[34mRequirement already satisfied: six>=1.5 in /miniconda3/lib/python3.7/site-packages (from python-dateutil>=2.6.1->pandas->delta-sharing->-r /opt/ml/processing/input/code/my_package/requirements.txt (line 1)) (1.16.0)\u001b[0m\n",
      "\u001b[34mRequirement already satisfied: certifi>=2017.4.17 in /miniconda3/lib/python3.7/site-packages (from requests->delta-sharing->-r /opt/ml/processing/input/code/my_package/requirements.txt (line 1)) (2021.10.8)\u001b[0m\n",
      "\u001b[34mRequirement already satisfied: urllib3<1.27,>=1.21.1 in /miniconda3/lib/python3.7/site-packages (from requests->delta-sharing->-r /opt/ml/processing/input/code/my_package/requirements.txt (line 1)) (1.26.8)\u001b[0m\n",
      "\u001b[34mInstalling collected packages: multidict, frozenlist, yarl, attrs, asynctest, async-timeout, aiosignal, pyarrow, fsspec, aiohttp, delta-sharing\n",
      "  Attempting uninstall: pyarrow\n",
      "    Found existing installation: pyarrow 0.14.1\n",
      "    Uninstalling pyarrow-0.14.1:\n",
      "      Successfully uninstalled pyarrow-0.14.1\u001b[0m\n",
      "\u001b[34mSuccessfully installed aiohttp-3.8.1 aiosignal-1.2.0 async-timeout-4.0.2 asynctest-0.13.0 attrs-22.1.0 delta-sharing-0.5.0 frozenlist-1.3.1 fsspec-2022.8.2 multidict-6.0.2 pyarrow-9.0.0 yarl-1.8.1\u001b[0m\n",
      "\u001b[34mWARNING: Running pip as the 'root' user can result in broken permissions and conflicting behaviour with the system package manager. It is recommended to use a virtual environment instead: https://pip.pypa.io/warnings/venv\u001b[0m\n",
      "\u001b[34m/miniconda3/lib/python3.7/site-packages/sklearn/externals/joblib/externals/cloudpickle/cloudpickle.py:47: DeprecationWarning: the imp module is deprecated in favour of importlib; see the module's documentation for alternative uses\n",
      "  import imp\u001b[0m\n",
      "\u001b[34mReceived arguments Namespace(profile_file='/opt/ml/processing/profile/', table='#delta_sharing.default.boston-housing')\u001b[0m\n",
      "\u001b[34mFound profile file: /opt/ml/processing/profile/open-datasets.share\u001b[0m\n",
      "\u001b[34mLoading #delta_sharing.default.boston-housing table from Delta Lake\u001b[0m\n",
      "\u001b[34mTrain data shape: (506, 15)\u001b[0m\n",
      "\u001b[34mData after cleaning: (333, 15), 20 positive examples, 313 negative examples\u001b[0m\n",
      "\u001b[34mSaving processed features to /opt/ml/processing/processed/processed_features.csv\u001b[0m\n",
      "\n"
     ]
    }
   ],
   "source": [
    "from sagemaker.processing import ProcessingInput, ProcessingOutput\n",
    "\n",
    "sklearn_processor.run(\n",
    "    code=\"./code/preprocessing.py\",\n",
    "    inputs=[\n",
    "        ProcessingInput(source=profile_file_url_s3, destination='/opt/ml/processing/profile/'),\n",
    "        ProcessingInput(source='code/', destination=\"/opt/ml/processing/input/code/my_package/\")\n",
    "    ],\n",
    "    outputs=[\n",
    "        ProcessingOutput(output_name=\"processed_data\", source=\"/opt/ml/processing/processed\"),\n",
    "    ],\n",
    "    arguments=['--profile-file', '/opt/ml/processing/profile/', '--table', table],\n",
    ")"
   ]
  },
  {
   "cell_type": "code",
   "execution_count": 61,
   "id": "c34a8987-a608-4e07-86de-1317cacaf9d9",
   "metadata": {},
   "outputs": [],
   "source": [
    "processing_job_description = sklearn_processor.jobs[-1].describe()\n",
    "\n",
    "output_config = processing_job_description[\"ProcessingOutputConfig\"]\n",
    "for output in output_config[\"Outputs\"]:\n",
    "    if output[\"OutputName\"] == \"processed_data\":\n",
    "        processed_data = output[\"S3Output\"][\"S3Uri\"]"
   ]
  },
  {
   "cell_type": "code",
   "execution_count": 62,
   "id": "a3e57560-910b-485b-bd96-09c5ffa34e52",
   "metadata": {},
   "outputs": [
    {
     "name": "stdout",
     "output_type": "stream",
     "text": [
      "Processed features shape: (333, 15)\n"
     ]
    },
    {
     "data": {
      "text/html": [
       "<div>\n",
       "<style scoped>\n",
       "    .dataframe tbody tr th:only-of-type {\n",
       "        vertical-align: middle;\n",
       "    }\n",
       "\n",
       "    .dataframe tbody tr th {\n",
       "        vertical-align: top;\n",
       "    }\n",
       "\n",
       "    .dataframe thead th {\n",
       "        text-align: right;\n",
       "    }\n",
       "</style>\n",
       "<table border=\"1\" class=\"dataframe\">\n",
       "  <thead>\n",
       "    <tr style=\"text-align: right;\">\n",
       "      <th></th>\n",
       "      <th>ID</th>\n",
       "      <th>crim</th>\n",
       "      <th>zn</th>\n",
       "      <th>indus</th>\n",
       "      <th>chas</th>\n",
       "      <th>nox</th>\n",
       "      <th>rm</th>\n",
       "      <th>age</th>\n",
       "      <th>dis</th>\n",
       "      <th>rad</th>\n",
       "      <th>tax</th>\n",
       "      <th>ptratio</th>\n",
       "      <th>black</th>\n",
       "      <th>lstat</th>\n",
       "      <th>medv</th>\n",
       "    </tr>\n",
       "  </thead>\n",
       "  <tbody>\n",
       "    <tr>\n",
       "      <th>0</th>\n",
       "      <td>1</td>\n",
       "      <td>0.00632</td>\n",
       "      <td>18.0</td>\n",
       "      <td>2.31</td>\n",
       "      <td>0</td>\n",
       "      <td>0.538</td>\n",
       "      <td>6.575</td>\n",
       "      <td>65.2</td>\n",
       "      <td>4.0900</td>\n",
       "      <td>1</td>\n",
       "      <td>296</td>\n",
       "      <td>15.3</td>\n",
       "      <td>396.90</td>\n",
       "      <td>4.98</td>\n",
       "      <td>24.0</td>\n",
       "    </tr>\n",
       "    <tr>\n",
       "      <th>1</th>\n",
       "      <td>2</td>\n",
       "      <td>0.02731</td>\n",
       "      <td>0.0</td>\n",
       "      <td>7.07</td>\n",
       "      <td>0</td>\n",
       "      <td>0.469</td>\n",
       "      <td>6.421</td>\n",
       "      <td>78.9</td>\n",
       "      <td>4.9671</td>\n",
       "      <td>2</td>\n",
       "      <td>242</td>\n",
       "      <td>17.8</td>\n",
       "      <td>396.90</td>\n",
       "      <td>9.14</td>\n",
       "      <td>21.6</td>\n",
       "    </tr>\n",
       "    <tr>\n",
       "      <th>2</th>\n",
       "      <td>4</td>\n",
       "      <td>0.03237</td>\n",
       "      <td>0.0</td>\n",
       "      <td>2.18</td>\n",
       "      <td>0</td>\n",
       "      <td>0.458</td>\n",
       "      <td>6.998</td>\n",
       "      <td>45.8</td>\n",
       "      <td>6.0622</td>\n",
       "      <td>3</td>\n",
       "      <td>222</td>\n",
       "      <td>18.7</td>\n",
       "      <td>394.63</td>\n",
       "      <td>2.94</td>\n",
       "      <td>33.4</td>\n",
       "    </tr>\n",
       "    <tr>\n",
       "      <th>3</th>\n",
       "      <td>5</td>\n",
       "      <td>0.06905</td>\n",
       "      <td>0.0</td>\n",
       "      <td>2.18</td>\n",
       "      <td>0</td>\n",
       "      <td>0.458</td>\n",
       "      <td>7.147</td>\n",
       "      <td>54.2</td>\n",
       "      <td>6.0622</td>\n",
       "      <td>3</td>\n",
       "      <td>222</td>\n",
       "      <td>18.7</td>\n",
       "      <td>396.90</td>\n",
       "      <td>5.33</td>\n",
       "      <td>36.2</td>\n",
       "    </tr>\n",
       "    <tr>\n",
       "      <th>4</th>\n",
       "      <td>7</td>\n",
       "      <td>0.08829</td>\n",
       "      <td>12.5</td>\n",
       "      <td>7.87</td>\n",
       "      <td>0</td>\n",
       "      <td>0.524</td>\n",
       "      <td>6.012</td>\n",
       "      <td>66.6</td>\n",
       "      <td>5.5605</td>\n",
       "      <td>5</td>\n",
       "      <td>311</td>\n",
       "      <td>15.2</td>\n",
       "      <td>395.60</td>\n",
       "      <td>12.43</td>\n",
       "      <td>22.9</td>\n",
       "    </tr>\n",
       "  </tbody>\n",
       "</table>\n",
       "</div>"
      ],
      "text/plain": [
       "   ID     crim    zn  indus  chas    nox     rm   age     dis  rad  tax  \\\n",
       "0   1  0.00632  18.0   2.31     0  0.538  6.575  65.2  4.0900    1  296   \n",
       "1   2  0.02731   0.0   7.07     0  0.469  6.421  78.9  4.9671    2  242   \n",
       "2   4  0.03237   0.0   2.18     0  0.458  6.998  45.8  6.0622    3  222   \n",
       "3   5  0.06905   0.0   2.18     0  0.458  7.147  54.2  6.0622    3  222   \n",
       "4   7  0.08829  12.5   7.87     0  0.524  6.012  66.6  5.5605    5  311   \n",
       "\n",
       "   ptratio   black  lstat  medv  \n",
       "0     15.3  396.90   4.98  24.0  \n",
       "1     17.8  396.90   9.14  21.6  \n",
       "2     18.7  394.63   2.94  33.4  \n",
       "3     18.7  396.90   5.33  36.2  \n",
       "4     15.2  395.60  12.43  22.9  "
      ]
     },
     "execution_count": 62,
     "metadata": {},
     "output_type": "execute_result"
    }
   ],
   "source": [
    "processed_features = pd.read_csv(processed_data + \"/processed_features.csv\")\n",
    "print(\"Processed features shape: {}\".format(processed_features.shape))\n",
    "processed_features.head()"
   ]
  },
  {
   "cell_type": "markdown",
   "id": "4ab7b739-0635-462c-91e9-29af444969e1",
   "metadata": {},
   "source": [
    "----\n",
    "\n",
    "### Ingesting processed data into SageMaker Feature Store"
   ]
  },
  {
   "cell_type": "markdown",
   "id": "83bd8c85-ea9b-428a-9392-56795c11bc4b",
   "metadata": {},
   "source": [
    "Now that the data is pre-processsed, we will proceed to ingest it into SageMaker Feature Store. This this we will:\n",
    "* Create a Feature Group for our processed data\n",
    "* Ingest the records to the Feature Group\n",
    "* Query the Feature Group for ensuring the data was properly ingested"
   ]
  },
  {
   "cell_type": "code",
   "execution_count": 67,
   "id": "705b59a7-1f89-467f-8cbf-eb3908f09d63",
   "metadata": {},
   "outputs": [],
   "source": [
    "from sagemaker.feature_store.feature_group import FeatureGroup\n",
    "\n",
    "feature_group_name = 'boston-housing-fg'\n",
    "\n",
    "feature_group = FeatureGroup(\n",
    "    name=feature_group_name, sagemaker_session=sm_session\n",
    ")"
   ]
  },
  {
   "cell_type": "code",
   "execution_count": 69,
   "id": "48accf47-b3cc-4e51-a83c-f573104ebc16",
   "metadata": {},
   "outputs": [],
   "source": [
    "import time\n",
    "\n",
    "current_time_sec = int(round(time.time()))\n",
    "\n",
    "record_identifier_feature_name = \"ID\"\n",
    "processed_features[\"EventTime\"] = pd.Series([current_time_sec] * len(processed_features), dtype=\"float64\")"
   ]
  },
  {
   "cell_type": "code",
   "execution_count": 70,
   "id": "5c3f6224-da0d-4392-8ebd-c07b995d1de4",
   "metadata": {},
   "outputs": [
    {
     "data": {
      "text/plain": [
       "[FeatureDefinition(feature_name='ID', feature_type=<FeatureTypeEnum.INTEGRAL: 'Integral'>),\n",
       " FeatureDefinition(feature_name='crim', feature_type=<FeatureTypeEnum.FRACTIONAL: 'Fractional'>),\n",
       " FeatureDefinition(feature_name='zn', feature_type=<FeatureTypeEnum.FRACTIONAL: 'Fractional'>),\n",
       " FeatureDefinition(feature_name='indus', feature_type=<FeatureTypeEnum.FRACTIONAL: 'Fractional'>),\n",
       " FeatureDefinition(feature_name='chas', feature_type=<FeatureTypeEnum.INTEGRAL: 'Integral'>),\n",
       " FeatureDefinition(feature_name='nox', feature_type=<FeatureTypeEnum.FRACTIONAL: 'Fractional'>),\n",
       " FeatureDefinition(feature_name='rm', feature_type=<FeatureTypeEnum.FRACTIONAL: 'Fractional'>),\n",
       " FeatureDefinition(feature_name='age', feature_type=<FeatureTypeEnum.FRACTIONAL: 'Fractional'>),\n",
       " FeatureDefinition(feature_name='dis', feature_type=<FeatureTypeEnum.FRACTIONAL: 'Fractional'>),\n",
       " FeatureDefinition(feature_name='rad', feature_type=<FeatureTypeEnum.INTEGRAL: 'Integral'>),\n",
       " FeatureDefinition(feature_name='tax', feature_type=<FeatureTypeEnum.INTEGRAL: 'Integral'>),\n",
       " FeatureDefinition(feature_name='ptratio', feature_type=<FeatureTypeEnum.FRACTIONAL: 'Fractional'>),\n",
       " FeatureDefinition(feature_name='black', feature_type=<FeatureTypeEnum.FRACTIONAL: 'Fractional'>),\n",
       " FeatureDefinition(feature_name='lstat', feature_type=<FeatureTypeEnum.FRACTIONAL: 'Fractional'>),\n",
       " FeatureDefinition(feature_name='medv', feature_type=<FeatureTypeEnum.FRACTIONAL: 'Fractional'>),\n",
       " FeatureDefinition(feature_name='EventTime', feature_type=<FeatureTypeEnum.FRACTIONAL: 'Fractional'>)]"
      ]
     },
     "execution_count": 70,
     "metadata": {},
     "output_type": "execute_result"
    }
   ],
   "source": [
    "feature_group.load_feature_definitions(data_frame=processed_features)"
   ]
  },
  {
   "cell_type": "code",
   "execution_count": 71,
   "id": "139b803e-ac0e-4599-aa8d-1afc9c0afc7c",
   "metadata": {},
   "outputs": [
    {
     "data": {
      "text/plain": [
       "{'FeatureGroupArn': 'arn:aws:sagemaker:eu-west-1:889960878219:feature-group/boston-housing-fg',\n",
       " 'ResponseMetadata': {'RequestId': '04520484-4319-4caa-ab59-7f5155c6b5c0',\n",
       "  'HTTPStatusCode': 200,\n",
       "  'HTTPHeaders': {'x-amzn-requestid': '04520484-4319-4caa-ab59-7f5155c6b5c0',\n",
       "   'content-type': 'application/x-amz-json-1.1',\n",
       "   'content-length': '94',\n",
       "   'date': 'Thu, 01 Sep 2022 10:43:17 GMT'},\n",
       "  'RetryAttempts': 0}}"
      ]
     },
     "execution_count": 71,
     "metadata": {},
     "output_type": "execute_result"
    }
   ],
   "source": [
    "feature_group.create(\n",
    "    s3_uri=f\"s3://{bucket}/delta_to_sagemaker/\",\n",
    "    record_identifier_name=record_identifier_feature_name,\n",
    "    event_time_feature_name=\"EventTime\",\n",
    "    role_arn=role,\n",
    "    enable_online_store=True,\n",
    ")"
   ]
  },
  {
   "cell_type": "markdown",
   "id": "4a7dc11d-3eb0-4632-80f6-567d51675cfc",
   "metadata": {},
   "source": [
    "To confirm that your FeatureGroup has been created we use `DescribeFeatureGroup` and `ListFeatureGroups` APIs to display the created FeatureGroup."
   ]
  },
  {
   "cell_type": "code",
   "execution_count": 72,
   "id": "eb579f3f-5c62-433f-8e70-e524dfd17733",
   "metadata": {
    "scrolled": true,
    "tags": []
   },
   "outputs": [
    {
     "data": {
      "text/plain": [
       "{'FeatureGroupArn': 'arn:aws:sagemaker:eu-west-1:889960878219:feature-group/boston-housing-fg',\n",
       " 'FeatureGroupName': 'boston-housing-fg',\n",
       " 'RecordIdentifierFeatureName': 'ID',\n",
       " 'EventTimeFeatureName': 'EventTime',\n",
       " 'FeatureDefinitions': [{'FeatureName': 'ID', 'FeatureType': 'Integral'},\n",
       "  {'FeatureName': 'crim', 'FeatureType': 'Fractional'},\n",
       "  {'FeatureName': 'zn', 'FeatureType': 'Fractional'},\n",
       "  {'FeatureName': 'indus', 'FeatureType': 'Fractional'},\n",
       "  {'FeatureName': 'chas', 'FeatureType': 'Integral'},\n",
       "  {'FeatureName': 'nox', 'FeatureType': 'Fractional'},\n",
       "  {'FeatureName': 'rm', 'FeatureType': 'Fractional'},\n",
       "  {'FeatureName': 'age', 'FeatureType': 'Fractional'},\n",
       "  {'FeatureName': 'dis', 'FeatureType': 'Fractional'},\n",
       "  {'FeatureName': 'rad', 'FeatureType': 'Integral'},\n",
       "  {'FeatureName': 'tax', 'FeatureType': 'Integral'},\n",
       "  {'FeatureName': 'ptratio', 'FeatureType': 'Fractional'},\n",
       "  {'FeatureName': 'black', 'FeatureType': 'Fractional'},\n",
       "  {'FeatureName': 'lstat', 'FeatureType': 'Fractional'},\n",
       "  {'FeatureName': 'medv', 'FeatureType': 'Fractional'},\n",
       "  {'FeatureName': 'EventTime', 'FeatureType': 'Fractional'}],\n",
       " 'CreationTime': datetime.datetime(2022, 9, 1, 10, 43, 17, 620000, tzinfo=tzlocal()),\n",
       " 'OnlineStoreConfig': {'EnableOnlineStore': True},\n",
       " 'OfflineStoreConfig': {'S3StorageConfig': {'S3Uri': 's3://sagemaker-eu-west-1-889960878219/delta_to_sagemaker/',\n",
       "   'ResolvedOutputS3Uri': 's3://sagemaker-eu-west-1-889960878219/delta_to_sagemaker/889960878219/sagemaker/eu-west-1/offline-store/boston-housing-fg-1662028997/data'},\n",
       "  'DisableGlueTableCreation': False},\n",
       " 'RoleArn': 'arn:aws:iam::889960878219:role/service-role/AmazonSageMaker-ExecutionRole-20180920T165537',\n",
       " 'FeatureGroupStatus': 'Creating',\n",
       " 'ResponseMetadata': {'RequestId': 'a2d28b28-16fb-4c5d-9a5f-1f8af775f6e7',\n",
       "  'HTTPStatusCode': 200,\n",
       "  'HTTPHeaders': {'x-amzn-requestid': 'a2d28b28-16fb-4c5d-9a5f-1f8af775f6e7',\n",
       "   'content-type': 'application/x-amz-json-1.1',\n",
       "   'content-length': '1973',\n",
       "   'date': 'Thu, 01 Sep 2022 10:43:24 GMT'},\n",
       "  'RetryAttempts': 0}}"
      ]
     },
     "execution_count": 72,
     "metadata": {},
     "output_type": "execute_result"
    }
   ],
   "source": [
    "feature_group.describe()"
   ]
  },
  {
   "cell_type": "code",
   "execution_count": 73,
   "id": "1fa1e0d5-53f5-4526-a3be-6999ed5c97b2",
   "metadata": {
    "scrolled": true,
    "tags": []
   },
   "outputs": [
    {
     "data": {
      "text/plain": [
       "{'FeatureGroupSummaries': [{'FeatureGroupName': 'transaction-feature-group-25-12-30-54',\n",
       "   'FeatureGroupArn': 'arn:aws:sagemaker:eu-west-1:889960878219:feature-group/transaction-feature-group-25-12-30-54',\n",
       "   'CreationTime': datetime.datetime(2021, 1, 25, 12, 32, 5, 865000, tzinfo=tzlocal()),\n",
       "   'FeatureGroupStatus': 'Created',\n",
       "   'OfflineStoreStatus': {'Status': 'Active'}},\n",
       "  {'FeatureGroupName': 'synthetic-housing-data-2',\n",
       "   'FeatureGroupArn': 'arn:aws:sagemaker:eu-west-1:889960878219:feature-group/synthetic-housing-data-2',\n",
       "   'CreationTime': datetime.datetime(2022, 4, 11, 10, 14, 50, 318000, tzinfo=tzlocal()),\n",
       "   'FeatureGroupStatus': 'Created',\n",
       "   'OfflineStoreStatus': {'Status': 'Active'}},\n",
       "  {'FeatureGroupName': 'orders-feature-group-14-13-34-20',\n",
       "   'FeatureGroupArn': 'arn:aws:sagemaker:eu-west-1:889960878219:feature-group/orders-feature-group-14-13-34-20',\n",
       "   'CreationTime': datetime.datetime(2021, 6, 14, 13, 34, 21, 316000, tzinfo=tzlocal()),\n",
       "   'FeatureGroupStatus': 'Created',\n",
       "   'OfflineStoreStatus': {'Status': 'Active'}},\n",
       "  {'FeatureGroupName': 'identity-feature-group-25-12-30-54',\n",
       "   'FeatureGroupArn': 'arn:aws:sagemaker:eu-west-1:889960878219:feature-group/identity-feature-group-25-12-30-54',\n",
       "   'CreationTime': datetime.datetime(2021, 1, 25, 12, 32, 1, 651000, tzinfo=tzlocal()),\n",
       "   'FeatureGroupStatus': 'Created',\n",
       "   'OfflineStoreStatus': {'Status': 'Active'}},\n",
       "  {'FeatureGroupName': 'fscw-products-07-06-12-47',\n",
       "   'FeatureGroupArn': 'arn:aws:sagemaker:eu-west-1:889960878219:feature-group/fscw-products-07-06-12-47',\n",
       "   'CreationTime': datetime.datetime(2022, 7, 6, 12, 47, 50, 520000, tzinfo=tzlocal()),\n",
       "   'FeatureGroupStatus': 'Created',\n",
       "   'OfflineStoreStatus': {'Status': 'Active'}},\n",
       "  {'FeatureGroupName': 'fscw-orders-07-06-12-47',\n",
       "   'FeatureGroupArn': 'arn:aws:sagemaker:eu-west-1:889960878219:feature-group/fscw-orders-07-06-12-47',\n",
       "   'CreationTime': datetime.datetime(2022, 7, 6, 12, 48, 11, 254000, tzinfo=tzlocal()),\n",
       "   'FeatureGroupStatus': 'Created',\n",
       "   'OfflineStoreStatus': {'Status': 'Active'}},\n",
       "  {'FeatureGroupName': 'fscw-customers-07-06-12-47',\n",
       "   'FeatureGroupArn': 'arn:aws:sagemaker:eu-west-1:889960878219:feature-group/fscw-customers-07-06-12-47',\n",
       "   'CreationTime': datetime.datetime(2022, 7, 6, 12, 47, 28, 914000, tzinfo=tzlocal()),\n",
       "   'FeatureGroupStatus': 'Created',\n",
       "   'OfflineStoreStatus': {'Status': 'Active'}},\n",
       "  {'FeatureGroupName': 'fraud-detect-demo-customers',\n",
       "   'FeatureGroupArn': 'arn:aws:sagemaker:eu-west-1:889960878219:feature-group/fraud-detect-demo-customers',\n",
       "   'CreationTime': datetime.datetime(2021, 10, 7, 16, 18, 54, 388000, tzinfo=tzlocal()),\n",
       "   'FeatureGroupStatus': 'Created',\n",
       "   'OfflineStoreStatus': {'Status': 'Active'}},\n",
       "  {'FeatureGroupName': 'fraud-detect-demo-claims',\n",
       "   'FeatureGroupArn': 'arn:aws:sagemaker:eu-west-1:889960878219:feature-group/fraud-detect-demo-claims',\n",
       "   'CreationTime': datetime.datetime(2021, 10, 7, 16, 18, 52, 794000, tzinfo=tzlocal()),\n",
       "   'FeatureGroupStatus': 'Created',\n",
       "   'OfflineStoreStatus': {'Status': 'Active'}},\n",
       "  {'FeatureGroupName': 'customers-feature-group-14-13-34-20',\n",
       "   'FeatureGroupArn': 'arn:aws:sagemaker:eu-west-1:889960878219:feature-group/customers-feature-group-14-13-34-20',\n",
       "   'CreationTime': datetime.datetime(2021, 6, 14, 13, 34, 20, 668000, tzinfo=tzlocal()),\n",
       "   'FeatureGroupStatus': 'Created',\n",
       "   'OfflineStoreStatus': {'Status': 'Active'}}],\n",
       " 'NextToken': 'cIws2QhTXUIa8bi8VaXSkZyCip699fykY7CU0a6rxKatwtimPuAdGzYreBOG3pbbWLtCHhpg5i7xvYgjwvH4czvHPha6FQ9DjJmWDotn7pNONSFJpMIe050YF+3dZRh38yF8ZQgvh307x741NKbXm/UOxLrP5g36s6zPxXTwUGwa2Lr2VRScUPXzOGo8OPvthjiA9QCOtcMkDR/Id74xVYbQG5bQUx46Z4C7BhDGvM6yQqhXKGdCY122qvsFudIrlTEsL6GqRTanOR82w8XqNzE4rp/hTDM74EM/1iYYntAF6LLQf2zNyiUp3bR/1CaHLVj1KjX2p6zHK9axvo/LcXfOYFjTMxujmnnl1Lia+xHeMqZh5MLgM8NBnMBfti5Cp3f9vp20vUY9P/DmgebRxAsZzz0lHgCt645q3YqHGcySNUScs+pZz2Wtln312M2jS6khMxazhHJPLmnRSHhOTG3nPBJ0pnvagQ2dFTPv8jhuX1thMqGvtvBP4T8w8fV8RnTbq22XDbKDbrt4vCaKP9XHQ/TY9kuMgDqwKXNlqPIJMJReNUwnGXAd34Md/ODdW1vk8VI=',\n",
       " 'ResponseMetadata': {'RequestId': '91805bb5-58dd-42f2-89a4-89f760827a82',\n",
       "  'HTTPStatusCode': 200,\n",
       "  'HTTPHeaders': {'x-amzn-requestid': '91805bb5-58dd-42f2-89a4-89f760827a82',\n",
       "   'content-type': 'application/x-amz-json-1.1',\n",
       "   'content-length': '3239',\n",
       "   'date': 'Thu, 01 Sep 2022 10:43:29 GMT'},\n",
       "  'RetryAttempts': 0}}"
      ]
     },
     "execution_count": 73,
     "metadata": {},
     "output_type": "execute_result"
    }
   ],
   "source": [
    "sm_session.boto_session.client(\n",
    "    \"sagemaker\", region_name=region\n",
    ").list_feature_groups()  # We use the boto client to list FeatureGroups"
   ]
  },
  {
   "cell_type": "markdown",
   "id": "b8aaa901-46fd-427c-93be-3554da14adbd",
   "metadata": {},
   "source": [
    "After the FeatureGroup has been created, we can put data into it by using the `PutRecord` API.\n",
    "\n",
    "It will take < 1min to ingest data for the FeatureGroup."
   ]
  },
  {
   "cell_type": "code",
   "execution_count": 74,
   "id": "ba29b137-34cd-44a3-a674-684f7eab32e4",
   "metadata": {},
   "outputs": [
    {
     "name": "stdout",
     "output_type": "stream",
     "text": [
      "FeatureGroup boston-housing-fg successfully created.\n"
     ]
    }
   ],
   "source": [
    "def check_feature_group_status(feature_group):\n",
    "    status = feature_group.describe().get(\"FeatureGroupStatus\")\n",
    "    while status == \"Creating\":\n",
    "        print(\"Waiting for Feature Group to be Created\")\n",
    "        time.sleep(5)\n",
    "        status = feature_group.describe().get(\"FeatureGroupStatus\")\n",
    "    print(f\"FeatureGroup {feature_group.name} successfully created.\")\n",
    "\n",
    "\n",
    "check_feature_group_status(feature_group)"
   ]
  },
  {
   "cell_type": "code",
   "execution_count": 75,
   "id": "5143c68f-8407-4060-9386-21bba495cac3",
   "metadata": {
    "tags": []
   },
   "outputs": [
    {
     "data": {
      "text/plain": [
       "IngestionManagerPandas(feature_group_name='boston-housing-fg', sagemaker_fs_runtime_client_config=<botocore.config.Config object at 0x7fb23149e370>, max_workers=3, max_processes=1, profile_name=None, _async_result=<multiprocess.pool.MapResult object at 0x7fb22e30a400>, _processing_pool=<pool ProcessPool(ncpus=1)>, _failed_indices=[])"
      ]
     },
     "execution_count": 75,
     "metadata": {},
     "output_type": "execute_result"
    }
   ],
   "source": [
    "feature_group.ingest(data_frame=processed_features, max_workers=3, wait=True)"
   ]
  },
  {
   "cell_type": "markdown",
   "id": "9969ae12-c3eb-43a7-aa87-6680f0214ef2",
   "metadata": {},
   "source": [
    "Using an arbirary customer record id, 57 we use `get_record` to check that the data has been ingested into the feature group."
   ]
  },
  {
   "cell_type": "code",
   "execution_count": 82,
   "id": "79add55b-9b20-4b5e-83a3-c3074a62aec6",
   "metadata": {},
   "outputs": [],
   "source": [
    "customer_id = 57\n",
    "sample_record = sm_session.boto_session.client(\n",
    "    \"sagemaker-featurestore-runtime\", region_name=region\n",
    ").get_record(\n",
    "    FeatureGroupName=feature_group_name, RecordIdentifierValueAsString=str(customer_id)\n",
    ")"
   ]
  },
  {
   "cell_type": "code",
   "execution_count": 83,
   "id": "2f690e33-2caf-4df3-bd65-453d22c94254",
   "metadata": {},
   "outputs": [
    {
     "data": {
      "text/plain": [
       "{'ResponseMetadata': {'RequestId': '201e5cb2-20bb-48d6-bfb6-dad026d4adb7',\n",
       "  'HTTPStatusCode': 200,\n",
       "  'HTTPHeaders': {'x-amzn-requestid': '201e5cb2-20bb-48d6-bfb6-dad026d4adb7',\n",
       "   'content-type': 'application/json',\n",
       "   'content-length': '754',\n",
       "   'date': 'Thu, 01 Sep 2022 10:48:33 GMT'},\n",
       "  'RetryAttempts': 0},\n",
       " 'Record': [{'FeatureName': 'ID', 'ValueAsString': '57'},\n",
       "  {'FeatureName': 'crim', 'ValueAsString': '0.02055'},\n",
       "  {'FeatureName': 'zn', 'ValueAsString': '85.0'},\n",
       "  {'FeatureName': 'indus', 'ValueAsString': '0.74'},\n",
       "  {'FeatureName': 'chas', 'ValueAsString': '0'},\n",
       "  {'FeatureName': 'nox', 'ValueAsString': '0.41'},\n",
       "  {'FeatureName': 'rm', 'ValueAsString': '6.383'},\n",
       "  {'FeatureName': 'age', 'ValueAsString': '35.7'},\n",
       "  {'FeatureName': 'dis', 'ValueAsString': '9.1876'},\n",
       "  {'FeatureName': 'rad', 'ValueAsString': '2'},\n",
       "  {'FeatureName': 'tax', 'ValueAsString': '313'},\n",
       "  {'FeatureName': 'ptratio', 'ValueAsString': '17.3'},\n",
       "  {'FeatureName': 'black', 'ValueAsString': '396.9'},\n",
       "  {'FeatureName': 'lstat', 'ValueAsString': '5.77'},\n",
       "  {'FeatureName': 'medv', 'ValueAsString': '24.7'},\n",
       "  {'FeatureName': 'EventTime', 'ValueAsString': '1662028995.0'}]}"
      ]
     },
     "execution_count": 83,
     "metadata": {},
     "output_type": "execute_result"
    }
   ],
   "source": [
    "sample_record"
   ]
  },
  {
   "cell_type": "markdown",
   "id": "73cec1dc-5dd7-47b6-8a9a-4f71cef9c960",
   "metadata": {},
   "source": [
    "We use `batch_get_record` to check that all data has been ingested into two feature groups by providing customer ids."
   ]
  },
  {
   "cell_type": "code",
   "execution_count": 85,
   "id": "18b0bf53-2495-4316-a0d1-18888785c040",
   "metadata": {},
   "outputs": [],
   "source": [
    "all_records = sm_session.boto_session.client(\n",
    "    \"sagemaker-featurestore-runtime\", region_name=region\n",
    ").batch_get_record(\n",
    "    Identifiers=[\n",
    "        {\n",
    "            \"FeatureGroupName\": feature_group_name,\n",
    "            \"RecordIdentifiersValueAsString\": [\"57\", \"10\", \"8\", \"124\"],\n",
    "        }\n",
    "    ]\n",
    ")"
   ]
  },
  {
   "cell_type": "code",
   "execution_count": 86,
   "id": "4a9eede3-069c-4c58-8d45-598163928106",
   "metadata": {},
   "outputs": [
    {
     "data": {
      "text/plain": [
       "{'ResponseMetadata': {'RequestId': 'ec918e5e-d924-4c9a-9780-5aa167ccc476',\n",
       "  'HTTPStatusCode': 200,\n",
       "  'HTTPHeaders': {'x-amzn-requestid': 'ec918e5e-d924-4c9a-9780-5aa167ccc476',\n",
       "   'content-type': 'application/json',\n",
       "   'content-length': '1720',\n",
       "   'date': 'Thu, 01 Sep 2022 10:49:34 GMT'},\n",
       "  'RetryAttempts': 0},\n",
       " 'Records': [{'FeatureGroupName': 'boston-housing-fg',\n",
       "   'RecordIdentifierValueAsString': '124',\n",
       "   'Record': [{'FeatureName': 'ID', 'ValueAsString': '124'},\n",
       "    {'FeatureName': 'crim', 'ValueAsString': '0.15038'},\n",
       "    {'FeatureName': 'zn', 'ValueAsString': '0.0'},\n",
       "    {'FeatureName': 'indus', 'ValueAsString': '25.65'},\n",
       "    {'FeatureName': 'chas', 'ValueAsString': '0'},\n",
       "    {'FeatureName': 'nox', 'ValueAsString': '0.581'},\n",
       "    {'FeatureName': 'rm', 'ValueAsString': '5.856'},\n",
       "    {'FeatureName': 'age', 'ValueAsString': '97.0'},\n",
       "    {'FeatureName': 'dis', 'ValueAsString': '1.9444'},\n",
       "    {'FeatureName': 'rad', 'ValueAsString': '2'},\n",
       "    {'FeatureName': 'tax', 'ValueAsString': '188'},\n",
       "    {'FeatureName': 'ptratio', 'ValueAsString': '19.1'},\n",
       "    {'FeatureName': 'black', 'ValueAsString': '370.31'},\n",
       "    {'FeatureName': 'lstat', 'ValueAsString': '25.41'},\n",
       "    {'FeatureName': 'medv', 'ValueAsString': '17.3'},\n",
       "    {'FeatureName': 'EventTime', 'ValueAsString': '1662028995.0'}]},\n",
       "  {'FeatureGroupName': 'boston-housing-fg',\n",
       "   'RecordIdentifierValueAsString': '57',\n",
       "   'Record': [{'FeatureName': 'ID', 'ValueAsString': '57'},\n",
       "    {'FeatureName': 'crim', 'ValueAsString': '0.02055'},\n",
       "    {'FeatureName': 'zn', 'ValueAsString': '85.0'},\n",
       "    {'FeatureName': 'indus', 'ValueAsString': '0.74'},\n",
       "    {'FeatureName': 'chas', 'ValueAsString': '0'},\n",
       "    {'FeatureName': 'nox', 'ValueAsString': '0.41'},\n",
       "    {'FeatureName': 'rm', 'ValueAsString': '6.383'},\n",
       "    {'FeatureName': 'age', 'ValueAsString': '35.7'},\n",
       "    {'FeatureName': 'dis', 'ValueAsString': '9.1876'},\n",
       "    {'FeatureName': 'rad', 'ValueAsString': '2'},\n",
       "    {'FeatureName': 'tax', 'ValueAsString': '313'},\n",
       "    {'FeatureName': 'ptratio', 'ValueAsString': '17.3'},\n",
       "    {'FeatureName': 'black', 'ValueAsString': '396.9'},\n",
       "    {'FeatureName': 'lstat', 'ValueAsString': '5.77'},\n",
       "    {'FeatureName': 'medv', 'ValueAsString': '24.7'},\n",
       "    {'FeatureName': 'EventTime', 'ValueAsString': '1662028995.0'}]}],\n",
       " 'Errors': [],\n",
       " 'UnprocessedIdentifiers': []}"
      ]
     },
     "execution_count": 86,
     "metadata": {},
     "output_type": "execute_result"
    }
   ],
   "source": [
    "all_records"
   ]
  },
  {
   "cell_type": "code",
   "execution_count": null,
   "id": "aa641c4a-fbc3-43b3-8cf1-0d991f74f3c1",
   "metadata": {},
   "outputs": [],
   "source": []
  }
 ],
 "metadata": {
  "instance_type": "ml.t3.medium",
  "kernelspec": {
   "display_name": "Python 3 (Data Science 2.0)",
   "language": "python",
   "name": "python3__SAGEMAKER_INTERNAL__arn:aws:sagemaker:eu-west-1:470317259841:image/sagemaker-data-science-38"
  },
  "language_info": {
   "codemirror_mode": {
    "name": "ipython",
    "version": 3
   },
   "file_extension": ".py",
   "mimetype": "text/x-python",
   "name": "python",
   "nbconvert_exporter": "python",
   "pygments_lexer": "ipython3",
   "version": "3.8.13"
  }
 },
 "nbformat": 4,
 "nbformat_minor": 5
}
