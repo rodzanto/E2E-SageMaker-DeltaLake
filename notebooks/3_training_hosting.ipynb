{
 "cells": [
  {
   "cell_type": "markdown",
   "id": "155a9097-f62c-40e5-ad6c-203ae222f26e",
   "metadata": {},
   "source": [
    "# From Delta Lake to Amazon SageMaker\n",
    "\n",
    "[Delta Lake](https://delta.io/) is a common open-source framework used for storing data in Lakehouse architectures.\n",
    "\n",
    "In this sample we demonstrate how to integrate Delta Tables with Amazon SageMaker for performing data exploration, ingestion, processing, training, and hosting for Machine Learning.\n",
    "\n",
    "---\n",
    "\n",
    "## 3 - Model Training and Hosting\n",
    "\n",
    "In this notebook, we will...\n",
    "\n",
    "### ***(TBC - Diagram of architecture for Delta Lake and SageMaker integration for training and hosting, both online via Endpoint and offline via Batch Transform)***\n"
   ]
  },
  {
   "cell_type": "code",
   "execution_count": null,
   "id": "172b18b8-68dc-4b31-b094-bdcf43fab6fa",
   "metadata": {},
   "outputs": [],
   "source": []
  },
  {
   "cell_type": "code",
   "execution_count": null,
   "id": "7cd6bc28-8cd4-490f-bd65-e760db0b7d52",
   "metadata": {},
   "outputs": [],
   "source": []
  },
  {
   "cell_type": "code",
   "execution_count": null,
   "id": "2a014fed-27d0-4685-9d64-7022ff698d96",
   "metadata": {},
   "outputs": [],
   "source": []
  }
 ],
 "metadata": {
  "instance_type": "ml.t3.medium",
  "kernelspec": {
   "display_name": "Python 3 (Data Science 2.0)",
   "language": "python",
   "name": "python3__SAGEMAKER_INTERNAL__arn:aws:sagemaker:eu-west-1:470317259841:image/sagemaker-data-science-38"
  },
  "language_info": {
   "codemirror_mode": {
    "name": "ipython",
    "version": 3
   },
   "file_extension": ".py",
   "mimetype": "text/x-python",
   "name": "python",
   "nbconvert_exporter": "python",
   "pygments_lexer": "ipython3",
   "version": "3.8.13"
  }
 },
 "nbformat": 4,
 "nbformat_minor": 5
}
