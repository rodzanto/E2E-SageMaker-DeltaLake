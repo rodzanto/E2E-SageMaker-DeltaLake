{
 "cells": [
  {
   "cell_type": "markdown",
   "id": "c749391e-700f-40e9-a78e-7713fa42d353",
   "metadata": {},
   "source": [
    "# From Delta Lake to Amazon SageMaker\n",
    "\n",
    "## 2 - Feature Engineering and Ingestion\n",
    "\n",
    "In this notebook, we will..."
   ]
  },
  {
   "cell_type": "code",
   "execution_count": null,
   "id": "1c011736-951c-4478-8272-7cb956e7cf43",
   "metadata": {},
   "outputs": [],
   "source": []
  },
  {
   "cell_type": "code",
   "execution_count": null,
   "id": "d9b00ed0-beb4-4deb-a404-2b4ce77192d1",
   "metadata": {},
   "outputs": [],
   "source": []
  },
  {
   "cell_type": "code",
   "execution_count": null,
   "id": "5d53d195-4b0c-4b80-95a4-a25bf27ae43c",
   "metadata": {},
   "outputs": [],
   "source": []
  },
  {
   "cell_type": "code",
   "execution_count": null,
   "id": "b07e5dd2-5714-4430-bad4-4af0efd11115",
   "metadata": {},
   "outputs": [],
   "source": []
  }
 ],
 "metadata": {
  "instance_type": "ml.t3.medium",
  "kernelspec": {
   "display_name": "Python 3 (Data Science 2.0)",
   "language": "python",
   "name": "python3__SAGEMAKER_INTERNAL__arn:aws:sagemaker:eu-west-1:470317259841:image/sagemaker-data-science-38"
  },
  "language_info": {
   "codemirror_mode": {
    "name": "ipython",
    "version": 3
   },
   "file_extension": ".py",
   "mimetype": "text/x-python",
   "name": "python",
   "nbconvert_exporter": "python",
   "pygments_lexer": "ipython3",
   "version": "3.8.13"
  }
 },
 "nbformat": 4,
 "nbformat_minor": 5
}
